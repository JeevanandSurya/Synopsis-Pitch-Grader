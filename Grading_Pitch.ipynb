{
  "nbformat": 4,
  "nbformat_minor": 0,
  "metadata": {
    "colab": {
      "name": "Grading Pitch.ipynb",
      "provenance": [],
      "collapsed_sections": []
    },
    "kernelspec": {
      "name": "python3",
      "display_name": "Python 3"
    },
    "language_info": {
      "name": "python"
    }
  },
  "cells": [
    {
      "cell_type": "code",
      "execution_count": 113,
      "metadata": {
        "colab": {
          "base_uri": "https://localhost:8080/"
        },
        "id": "uNf6A8wJgqfz",
        "outputId": "b25aed80-07d4-4ef8-9b5e-2141419a848d"
      },
      "outputs": [
        {
          "output_type": "stream",
          "name": "stdout",
          "text": [
            "Drive already mounted at /content/drive; to attempt to forcibly remount, call drive.mount(\"/content/drive\", force_remount=True).\n"
          ]
        }
      ],
      "source": [
        "from google.colab import drive\n",
        "drive.mount('/content/drive')"
      ]
    },
    {
      "cell_type": "code",
      "source": [
        "import pandas as pd\n",
        "import numpy as np\n",
        "import matplotlib.pyplot as plt\n",
        "import seaborn as sns\n",
        "from keras.callbacks import EarlyStopping\n",
        "import warnings\n",
        "%matplotlib inline\n",
        "\n",
        "warnings.simplefilter(\"ignore\")"
      ],
      "metadata": {
        "id": "mZeLCaGNgx4Z"
      },
      "execution_count": 114,
      "outputs": []
    },
    {
      "cell_type": "markdown",
      "source": [
        "# Data"
      ],
      "metadata": {
        "id": "jKXuurGc625x"
      }
    },
    {
      "cell_type": "code",
      "source": [
        "data = pd.read_csv(\"/content/drive/MyDrive/Kaggle/GoodReads_100k_books.csv\")"
      ],
      "metadata": {
        "id": "GwURKDOSgzrK"
      },
      "execution_count": 115,
      "outputs": []
    },
    {
      "cell_type": "code",
      "source": [
        "data.head()"
      ],
      "metadata": {
        "colab": {
          "base_uri": "https://localhost:8080/",
          "height": 583
        },
        "id": "qXTPSq9Ig1b4",
        "outputId": "0e4a7ce1-b42a-471c-fba5-14aa316b09ff"
      },
      "execution_count": 116,
      "outputs": [
        {
          "output_type": "execute_result",
          "data": {
            "text/html": [
              "\n",
              "  <div id=\"df-acce401a-d10f-4022-ad23-58ad1791d498\">\n",
              "    <div class=\"colab-df-container\">\n",
              "      <div>\n",
              "<style scoped>\n",
              "    .dataframe tbody tr th:only-of-type {\n",
              "        vertical-align: middle;\n",
              "    }\n",
              "\n",
              "    .dataframe tbody tr th {\n",
              "        vertical-align: top;\n",
              "    }\n",
              "\n",
              "    .dataframe thead th {\n",
              "        text-align: right;\n",
              "    }\n",
              "</style>\n",
              "<table border=\"1\" class=\"dataframe\">\n",
              "  <thead>\n",
              "    <tr style=\"text-align: right;\">\n",
              "      <th></th>\n",
              "      <th>author</th>\n",
              "      <th>bookformat</th>\n",
              "      <th>desc</th>\n",
              "      <th>genre</th>\n",
              "      <th>img</th>\n",
              "      <th>isbn</th>\n",
              "      <th>isbn13</th>\n",
              "      <th>link</th>\n",
              "      <th>pages</th>\n",
              "      <th>rating</th>\n",
              "      <th>reviews</th>\n",
              "      <th>title</th>\n",
              "      <th>totalratings</th>\n",
              "    </tr>\n",
              "  </thead>\n",
              "  <tbody>\n",
              "    <tr>\n",
              "      <th>0</th>\n",
              "      <td>Laurence M. Hauptman</td>\n",
              "      <td>Hardcover</td>\n",
              "      <td>Reveals that several hundred thousand Indians ...</td>\n",
              "      <td>History,Military History,Civil War,American Hi...</td>\n",
              "      <td>https://i.gr-assets.com/images/S/compressed.ph...</td>\n",
              "      <td>002914180X</td>\n",
              "      <td>9.78E+12</td>\n",
              "      <td>https://goodreads.com/book/show/1001053.Betwee...</td>\n",
              "      <td>0</td>\n",
              "      <td>3.52</td>\n",
              "      <td>5</td>\n",
              "      <td>Between Two Fires: American Indians in the Civ...</td>\n",
              "      <td>33</td>\n",
              "    </tr>\n",
              "    <tr>\n",
              "      <th>1</th>\n",
              "      <td>Charlotte Fiell,Emmanuelle Dirix</td>\n",
              "      <td>Paperback</td>\n",
              "      <td>Fashion Sourcebook - 1920s is the first book i...</td>\n",
              "      <td>Couture,Fashion,Historical,Art,Nonfiction</td>\n",
              "      <td>https://i.gr-assets.com/images/S/compressed.ph...</td>\n",
              "      <td>1906863482</td>\n",
              "      <td>9.78E+12</td>\n",
              "      <td>https://goodreads.com/book/show/10010552-fashi...</td>\n",
              "      <td>576</td>\n",
              "      <td>4.51</td>\n",
              "      <td>6</td>\n",
              "      <td>Fashion Sourcebook 1920s</td>\n",
              "      <td>41</td>\n",
              "    </tr>\n",
              "    <tr>\n",
              "      <th>2</th>\n",
              "      <td>Andy Anderson</td>\n",
              "      <td>Paperback</td>\n",
              "      <td>The seminal history and analysis of the Hungar...</td>\n",
              "      <td>Politics,History</td>\n",
              "      <td>https://i.gr-assets.com/images/S/compressed.ph...</td>\n",
              "      <td>948984147</td>\n",
              "      <td>9.78E+12</td>\n",
              "      <td>https://goodreads.com/book/show/1001077.Hungar...</td>\n",
              "      <td>124</td>\n",
              "      <td>4.15</td>\n",
              "      <td>2</td>\n",
              "      <td>Hungary 56</td>\n",
              "      <td>26</td>\n",
              "    </tr>\n",
              "    <tr>\n",
              "      <th>3</th>\n",
              "      <td>Carlotta R. Anderson</td>\n",
              "      <td>Hardcover</td>\n",
              "      <td>\"All-American Anarchist\" chronicles the life a...</td>\n",
              "      <td>Labor,History</td>\n",
              "      <td>https://i.gr-assets.com/images/S/compressed.ph...</td>\n",
              "      <td>814327079</td>\n",
              "      <td>9.78E+12</td>\n",
              "      <td>https://goodreads.com/book/show/1001079.All_Am...</td>\n",
              "      <td>324</td>\n",
              "      <td>3.83</td>\n",
              "      <td>1</td>\n",
              "      <td>All-American Anarchist: Joseph A. Labadie and ...</td>\n",
              "      <td>6</td>\n",
              "    </tr>\n",
              "    <tr>\n",
              "      <th>4</th>\n",
              "      <td>Jean Leveille</td>\n",
              "      <td>NaN</td>\n",
              "      <td>Aujourdâ€™hui, lâ€™oiseau nous invite Ã  sa ta...</td>\n",
              "      <td>NaN</td>\n",
              "      <td>https://i.gr-assets.com/images/S/compressed.ph...</td>\n",
              "      <td>2761920813</td>\n",
              "      <td>NaN</td>\n",
              "      <td>https://goodreads.com/book/show/10010880-les-o...</td>\n",
              "      <td>177</td>\n",
              "      <td>4.00</td>\n",
              "      <td>1</td>\n",
              "      <td>Les oiseaux gourmands</td>\n",
              "      <td>1</td>\n",
              "    </tr>\n",
              "  </tbody>\n",
              "</table>\n",
              "</div>\n",
              "      <button class=\"colab-df-convert\" onclick=\"convertToInteractive('df-acce401a-d10f-4022-ad23-58ad1791d498')\"\n",
              "              title=\"Convert this dataframe to an interactive table.\"\n",
              "              style=\"display:none;\">\n",
              "        \n",
              "  <svg xmlns=\"http://www.w3.org/2000/svg\" height=\"24px\"viewBox=\"0 0 24 24\"\n",
              "       width=\"24px\">\n",
              "    <path d=\"M0 0h24v24H0V0z\" fill=\"none\"/>\n",
              "    <path d=\"M18.56 5.44l.94 2.06.94-2.06 2.06-.94-2.06-.94-.94-2.06-.94 2.06-2.06.94zm-11 1L8.5 8.5l.94-2.06 2.06-.94-2.06-.94L8.5 2.5l-.94 2.06-2.06.94zm10 10l.94 2.06.94-2.06 2.06-.94-2.06-.94-.94-2.06-.94 2.06-2.06.94z\"/><path d=\"M17.41 7.96l-1.37-1.37c-.4-.4-.92-.59-1.43-.59-.52 0-1.04.2-1.43.59L10.3 9.45l-7.72 7.72c-.78.78-.78 2.05 0 2.83L4 21.41c.39.39.9.59 1.41.59.51 0 1.02-.2 1.41-.59l7.78-7.78 2.81-2.81c.8-.78.8-2.07 0-2.86zM5.41 20L4 18.59l7.72-7.72 1.47 1.35L5.41 20z\"/>\n",
              "  </svg>\n",
              "      </button>\n",
              "      \n",
              "  <style>\n",
              "    .colab-df-container {\n",
              "      display:flex;\n",
              "      flex-wrap:wrap;\n",
              "      gap: 12px;\n",
              "    }\n",
              "\n",
              "    .colab-df-convert {\n",
              "      background-color: #E8F0FE;\n",
              "      border: none;\n",
              "      border-radius: 50%;\n",
              "      cursor: pointer;\n",
              "      display: none;\n",
              "      fill: #1967D2;\n",
              "      height: 32px;\n",
              "      padding: 0 0 0 0;\n",
              "      width: 32px;\n",
              "    }\n",
              "\n",
              "    .colab-df-convert:hover {\n",
              "      background-color: #E2EBFA;\n",
              "      box-shadow: 0px 1px 2px rgba(60, 64, 67, 0.3), 0px 1px 3px 1px rgba(60, 64, 67, 0.15);\n",
              "      fill: #174EA6;\n",
              "    }\n",
              "\n",
              "    [theme=dark] .colab-df-convert {\n",
              "      background-color: #3B4455;\n",
              "      fill: #D2E3FC;\n",
              "    }\n",
              "\n",
              "    [theme=dark] .colab-df-convert:hover {\n",
              "      background-color: #434B5C;\n",
              "      box-shadow: 0px 1px 3px 1px rgba(0, 0, 0, 0.15);\n",
              "      filter: drop-shadow(0px 1px 2px rgba(0, 0, 0, 0.3));\n",
              "      fill: #FFFFFF;\n",
              "    }\n",
              "  </style>\n",
              "\n",
              "      <script>\n",
              "        const buttonEl =\n",
              "          document.querySelector('#df-acce401a-d10f-4022-ad23-58ad1791d498 button.colab-df-convert');\n",
              "        buttonEl.style.display =\n",
              "          google.colab.kernel.accessAllowed ? 'block' : 'none';\n",
              "\n",
              "        async function convertToInteractive(key) {\n",
              "          const element = document.querySelector('#df-acce401a-d10f-4022-ad23-58ad1791d498');\n",
              "          const dataTable =\n",
              "            await google.colab.kernel.invokeFunction('convertToInteractive',\n",
              "                                                     [key], {});\n",
              "          if (!dataTable) return;\n",
              "\n",
              "          const docLinkHtml = 'Like what you see? Visit the ' +\n",
              "            '<a target=\"_blank\" href=https://colab.research.google.com/notebooks/data_table.ipynb>data table notebook</a>'\n",
              "            + ' to learn more about interactive tables.';\n",
              "          element.innerHTML = '';\n",
              "          dataTable['output_type'] = 'display_data';\n",
              "          await google.colab.output.renderOutput(dataTable, element);\n",
              "          const docLink = document.createElement('div');\n",
              "          docLink.innerHTML = docLinkHtml;\n",
              "          element.appendChild(docLink);\n",
              "        }\n",
              "      </script>\n",
              "    </div>\n",
              "  </div>\n",
              "  "
            ],
            "text/plain": [
              "                             author  ... totalratings\n",
              "0              Laurence M. Hauptman  ...           33\n",
              "1  Charlotte Fiell,Emmanuelle Dirix  ...           41\n",
              "2                     Andy Anderson  ...           26\n",
              "3              Carlotta R. Anderson  ...            6\n",
              "4                     Jean Leveille  ...            1\n",
              "\n",
              "[5 rows x 13 columns]"
            ]
          },
          "metadata": {},
          "execution_count": 116
        }
      ]
    },
    {
      "cell_type": "code",
      "source": [
        "data.shape"
      ],
      "metadata": {
        "colab": {
          "base_uri": "https://localhost:8080/"
        },
        "id": "clbl6OjPp6lH",
        "outputId": "3fdcf9b4-3d56-4c8f-e831-b9a501b50fa8"
      },
      "execution_count": 117,
      "outputs": [
        {
          "output_type": "execute_result",
          "data": {
            "text/plain": [
              "(100000, 13)"
            ]
          },
          "metadata": {},
          "execution_count": 117
        }
      ]
    },
    {
      "cell_type": "code",
      "source": [
        "data = data[~(data['totalratings'] < 1000)]\n",
        "data = data[~(data['pages'] < 100)]"
      ],
      "metadata": {
        "id": "Ue32Y-1Xpgip"
      },
      "execution_count": 118,
      "outputs": []
    },
    {
      "cell_type": "code",
      "source": [
        "data.reset_index(drop=True)"
      ],
      "metadata": {
        "colab": {
          "base_uri": "https://localhost:8080/",
          "height": 1000
        },
        "id": "8G7t5izvf1YN",
        "outputId": "adc27e83-cf80-44c3-a0d1-95cbd03e4e7e"
      },
      "execution_count": 119,
      "outputs": [
        {
          "output_type": "execute_result",
          "data": {
            "text/html": [
              "\n",
              "  <div id=\"df-01d26224-4c89-4d26-8e86-765fbabc6f8f\">\n",
              "    <div class=\"colab-df-container\">\n",
              "      <div>\n",
              "<style scoped>\n",
              "    .dataframe tbody tr th:only-of-type {\n",
              "        vertical-align: middle;\n",
              "    }\n",
              "\n",
              "    .dataframe tbody tr th {\n",
              "        vertical-align: top;\n",
              "    }\n",
              "\n",
              "    .dataframe thead th {\n",
              "        text-align: right;\n",
              "    }\n",
              "</style>\n",
              "<table border=\"1\" class=\"dataframe\">\n",
              "  <thead>\n",
              "    <tr style=\"text-align: right;\">\n",
              "      <th></th>\n",
              "      <th>author</th>\n",
              "      <th>bookformat</th>\n",
              "      <th>desc</th>\n",
              "      <th>genre</th>\n",
              "      <th>img</th>\n",
              "      <th>isbn</th>\n",
              "      <th>isbn13</th>\n",
              "      <th>link</th>\n",
              "      <th>pages</th>\n",
              "      <th>rating</th>\n",
              "      <th>reviews</th>\n",
              "      <th>title</th>\n",
              "      <th>totalratings</th>\n",
              "    </tr>\n",
              "  </thead>\n",
              "  <tbody>\n",
              "    <tr>\n",
              "      <th>0</th>\n",
              "      <td>Helen Fremont</td>\n",
              "      <td>Paperback</td>\n",
              "      <td>\"To this day, I don't even know what my mother...</td>\n",
              "      <td>Autobiography,Memoir,Nonfiction,World War II,H...</td>\n",
              "      <td>https://i.gr-assets.com/images/S/compressed.ph...</td>\n",
              "      <td>385333706</td>\n",
              "      <td>9.78E+12</td>\n",
              "      <td>https://goodreads.com/book/show/1001282.After_...</td>\n",
              "      <td>368</td>\n",
              "      <td>4.00</td>\n",
              "      <td>328</td>\n",
              "      <td>After Long Silence</td>\n",
              "      <td>2898</td>\n",
              "    </tr>\n",
              "    <tr>\n",
              "      <th>1</th>\n",
              "      <td>Christopher  Morley</td>\n",
              "      <td>Paperback</td>\n",
              "      <td>Roger Mifflin is part pixie, part sage, part n...</td>\n",
              "      <td>Fiction,Writing,Books About Books,Classics,Hum...</td>\n",
              "      <td>https://i.gr-assets.com/images/S/compressed.ph...</td>\n",
              "      <td>1414270658</td>\n",
              "      <td>9.78E+12</td>\n",
              "      <td>https://goodreads.com/book/show/1001312.Parnas...</td>\n",
              "      <td>152</td>\n",
              "      <td>4.03</td>\n",
              "      <td>1214</td>\n",
              "      <td>Parnassus on Wheels</td>\n",
              "      <td>6107</td>\n",
              "    </tr>\n",
              "    <tr>\n",
              "      <th>2</th>\n",
              "      <td>Robert J. Shiller</td>\n",
              "      <td>Paperback</td>\n",
              "      <td>As Robert Shillerâ€™s new 2009 preface to his ...</td>\n",
              "      <td>Economics,Economics,Finance,Business,Nonfictio...</td>\n",
              "      <td>https://i.gr-assets.com/images/S/compressed.ph...</td>\n",
              "      <td>767923634</td>\n",
              "      <td>9.78E+12</td>\n",
              "      <td>https://goodreads.com/book/show/100132.Irratio...</td>\n",
              "      <td>304</td>\n",
              "      <td>3.98</td>\n",
              "      <td>275</td>\n",
              "      <td>Irrational Exuberance</td>\n",
              "      <td>7019</td>\n",
              "    </tr>\n",
              "    <tr>\n",
              "      <th>3</th>\n",
              "      <td>Ovid,David Malouf,James Michie</td>\n",
              "      <td>Paperback</td>\n",
              "      <td>NaN</td>\n",
              "      <td>Poetry,Classics,Nonfiction,Philosophy,Romance,...</td>\n",
              "      <td>https://i.gr-assets.com/images/S/compressed.ph...</td>\n",
              "      <td>375761179</td>\n",
              "      <td>9.78E+12</td>\n",
              "      <td>https://goodreads.com/book/show/100142.The_Art...</td>\n",
              "      <td>199</td>\n",
              "      <td>3.81</td>\n",
              "      <td>349</td>\n",
              "      <td>The Art of Love</td>\n",
              "      <td>5154</td>\n",
              "    </tr>\n",
              "    <tr>\n",
              "      <th>4</th>\n",
              "      <td>Joseph Staten</td>\n",
              "      <td>Paperback</td>\n",
              "      <td>This is how it began...,It is the year 2524. H...</td>\n",
              "      <td>Science Fiction,Fiction,Games,Video Games,Spor...</td>\n",
              "      <td>https://i.gr-assets.com/images/S/compressed.ph...</td>\n",
              "      <td>765315696</td>\n",
              "      <td>9.78E+12</td>\n",
              "      <td>https://goodreads.com/book/show/1001442.Halo</td>\n",
              "      <td>396</td>\n",
              "      <td>3.98</td>\n",
              "      <td>271</td>\n",
              "      <td>Halo: Contact Harvest</td>\n",
              "      <td>8033</td>\n",
              "    </tr>\n",
              "    <tr>\n",
              "      <th>...</th>\n",
              "      <td>...</td>\n",
              "      <td>...</td>\n",
              "      <td>...</td>\n",
              "      <td>...</td>\n",
              "      <td>...</td>\n",
              "      <td>...</td>\n",
              "      <td>...</td>\n",
              "      <td>...</td>\n",
              "      <td>...</td>\n",
              "      <td>...</td>\n",
              "      <td>...</td>\n",
              "      <td>...</td>\n",
              "      <td>...</td>\n",
              "    </tr>\n",
              "    <tr>\n",
              "      <th>19374</th>\n",
              "      <td>Robert Jay Lifton</td>\n",
              "      <td>Paperback</td>\n",
              "      <td>Nazi doctors did more than conduct bizarre exp...</td>\n",
              "      <td>History,Nonfiction,Psychology,World War II,Hol...</td>\n",
              "      <td>https://i.gr-assets.com/images/S/compressed.ph...</td>\n",
              "      <td>465049052</td>\n",
              "      <td>9.78047E+12</td>\n",
              "      <td>https://goodreads.com/book/show/173187.The_Naz...</td>\n",
              "      <td>561</td>\n",
              "      <td>4.10</td>\n",
              "      <td>118</td>\n",
              "      <td>The Nazi Doctors: Medical Killing and the Psyc...</td>\n",
              "      <td>3336</td>\n",
              "    </tr>\n",
              "    <tr>\n",
              "      <th>19375</th>\n",
              "      <td>Priscilla Glenn</td>\n",
              "      <td>Paperback</td>\n",
              "      <td>Ever since the one time Andie Weber threw caut...</td>\n",
              "      <td>New Adult,Romance,Romance,Contemporary Romance...</td>\n",
              "      <td>https://i.gr-assets.com/images/S/compressed.ph...</td>\n",
              "      <td>1481988867</td>\n",
              "      <td>9.78148E+12</td>\n",
              "      <td>https://goodreads.com/book/show/17318931-emanc...</td>\n",
              "      <td>231</td>\n",
              "      <td>3.90</td>\n",
              "      <td>450</td>\n",
              "      <td>Emancipating Andie</td>\n",
              "      <td>3974</td>\n",
              "    </tr>\n",
              "    <tr>\n",
              "      <th>19376</th>\n",
              "      <td>Roque Larraquy</td>\n",
              "      <td>Paperback</td>\n",
              "      <td>La comemadre, ofrece dos relatos que hunden su...</td>\n",
              "      <td>Fiction,Horror,Novella,Novels,Cultural,Latin A...</td>\n",
              "      <td>https://i.gr-assets.com/images/S/compressed.ph...</td>\n",
              "      <td>NaN</td>\n",
              "      <td>9.78987E+12</td>\n",
              "      <td>https://goodreads.com/book/show/17319107-la-co...</td>\n",
              "      <td>148</td>\n",
              "      <td>3.84</td>\n",
              "      <td>194</td>\n",
              "      <td>La comemadre</td>\n",
              "      <td>1065</td>\n",
              "    </tr>\n",
              "    <tr>\n",
              "      <th>19377</th>\n",
              "      <td>Melissa Lucashenko</td>\n",
              "      <td>Paperback</td>\n",
              "      <td>A darkly funny novel of romantic love and cult...</td>\n",
              "      <td>Fiction,Cultural,Australia,Literary Fiction,Co...</td>\n",
              "      <td>https://i.gr-assets.com/images/S/compressed.ph...</td>\n",
              "      <td>702239194</td>\n",
              "      <td>9.7807E+12</td>\n",
              "      <td>https://goodreads.com/book/show/17319691-mullu...</td>\n",
              "      <td>296</td>\n",
              "      <td>3.93</td>\n",
              "      <td>164</td>\n",
              "      <td>Mullumbimby</td>\n",
              "      <td>1257</td>\n",
              "    </tr>\n",
              "    <tr>\n",
              "      <th>19378</th>\n",
              "      <td>John Lescroart</td>\n",
              "      <td>Paperback</td>\n",
              "      <td>\"People\" magazine crowns him \"a master.\" \"The ...</td>\n",
              "      <td>Mystery,Fiction,Thriller,Legal Thriller,Thrill...</td>\n",
              "      <td>https://i.gr-assets.com/images/S/compressed.ph...</td>\n",
              "      <td>451207645</td>\n",
              "      <td>9.78045E+12</td>\n",
              "      <td>https://goodreads.com/book/show/17319.The_Oath</td>\n",
              "      <td>468</td>\n",
              "      <td>4.03</td>\n",
              "      <td>156</td>\n",
              "      <td>The Oath</td>\n",
              "      <td>3413</td>\n",
              "    </tr>\n",
              "  </tbody>\n",
              "</table>\n",
              "<p>19379 rows × 13 columns</p>\n",
              "</div>\n",
              "      <button class=\"colab-df-convert\" onclick=\"convertToInteractive('df-01d26224-4c89-4d26-8e86-765fbabc6f8f')\"\n",
              "              title=\"Convert this dataframe to an interactive table.\"\n",
              "              style=\"display:none;\">\n",
              "        \n",
              "  <svg xmlns=\"http://www.w3.org/2000/svg\" height=\"24px\"viewBox=\"0 0 24 24\"\n",
              "       width=\"24px\">\n",
              "    <path d=\"M0 0h24v24H0V0z\" fill=\"none\"/>\n",
              "    <path d=\"M18.56 5.44l.94 2.06.94-2.06 2.06-.94-2.06-.94-.94-2.06-.94 2.06-2.06.94zm-11 1L8.5 8.5l.94-2.06 2.06-.94-2.06-.94L8.5 2.5l-.94 2.06-2.06.94zm10 10l.94 2.06.94-2.06 2.06-.94-2.06-.94-.94-2.06-.94 2.06-2.06.94z\"/><path d=\"M17.41 7.96l-1.37-1.37c-.4-.4-.92-.59-1.43-.59-.52 0-1.04.2-1.43.59L10.3 9.45l-7.72 7.72c-.78.78-.78 2.05 0 2.83L4 21.41c.39.39.9.59 1.41.59.51 0 1.02-.2 1.41-.59l7.78-7.78 2.81-2.81c.8-.78.8-2.07 0-2.86zM5.41 20L4 18.59l7.72-7.72 1.47 1.35L5.41 20z\"/>\n",
              "  </svg>\n",
              "      </button>\n",
              "      \n",
              "  <style>\n",
              "    .colab-df-container {\n",
              "      display:flex;\n",
              "      flex-wrap:wrap;\n",
              "      gap: 12px;\n",
              "    }\n",
              "\n",
              "    .colab-df-convert {\n",
              "      background-color: #E8F0FE;\n",
              "      border: none;\n",
              "      border-radius: 50%;\n",
              "      cursor: pointer;\n",
              "      display: none;\n",
              "      fill: #1967D2;\n",
              "      height: 32px;\n",
              "      padding: 0 0 0 0;\n",
              "      width: 32px;\n",
              "    }\n",
              "\n",
              "    .colab-df-convert:hover {\n",
              "      background-color: #E2EBFA;\n",
              "      box-shadow: 0px 1px 2px rgba(60, 64, 67, 0.3), 0px 1px 3px 1px rgba(60, 64, 67, 0.15);\n",
              "      fill: #174EA6;\n",
              "    }\n",
              "\n",
              "    [theme=dark] .colab-df-convert {\n",
              "      background-color: #3B4455;\n",
              "      fill: #D2E3FC;\n",
              "    }\n",
              "\n",
              "    [theme=dark] .colab-df-convert:hover {\n",
              "      background-color: #434B5C;\n",
              "      box-shadow: 0px 1px 3px 1px rgba(0, 0, 0, 0.15);\n",
              "      filter: drop-shadow(0px 1px 2px rgba(0, 0, 0, 0.3));\n",
              "      fill: #FFFFFF;\n",
              "    }\n",
              "  </style>\n",
              "\n",
              "      <script>\n",
              "        const buttonEl =\n",
              "          document.querySelector('#df-01d26224-4c89-4d26-8e86-765fbabc6f8f button.colab-df-convert');\n",
              "        buttonEl.style.display =\n",
              "          google.colab.kernel.accessAllowed ? 'block' : 'none';\n",
              "\n",
              "        async function convertToInteractive(key) {\n",
              "          const element = document.querySelector('#df-01d26224-4c89-4d26-8e86-765fbabc6f8f');\n",
              "          const dataTable =\n",
              "            await google.colab.kernel.invokeFunction('convertToInteractive',\n",
              "                                                     [key], {});\n",
              "          if (!dataTable) return;\n",
              "\n",
              "          const docLinkHtml = 'Like what you see? Visit the ' +\n",
              "            '<a target=\"_blank\" href=https://colab.research.google.com/notebooks/data_table.ipynb>data table notebook</a>'\n",
              "            + ' to learn more about interactive tables.';\n",
              "          element.innerHTML = '';\n",
              "          dataTable['output_type'] = 'display_data';\n",
              "          await google.colab.output.renderOutput(dataTable, element);\n",
              "          const docLink = document.createElement('div');\n",
              "          docLink.innerHTML = docLinkHtml;\n",
              "          element.appendChild(docLink);\n",
              "        }\n",
              "      </script>\n",
              "    </div>\n",
              "  </div>\n",
              "  "
            ],
            "text/plain": [
              "                               author  ... totalratings\n",
              "0                       Helen Fremont  ...         2898\n",
              "1                 Christopher  Morley  ...         6107\n",
              "2                   Robert J. Shiller  ...         7019\n",
              "3      Ovid,David Malouf,James Michie  ...         5154\n",
              "4                       Joseph Staten  ...         8033\n",
              "...                               ...  ...          ...\n",
              "19374               Robert Jay Lifton  ...         3336\n",
              "19375                 Priscilla Glenn  ...         3974\n",
              "19376                  Roque Larraquy  ...         1065\n",
              "19377              Melissa Lucashenko  ...         1257\n",
              "19378                  John Lescroart  ...         3413\n",
              "\n",
              "[19379 rows x 13 columns]"
            ]
          },
          "metadata": {},
          "execution_count": 119
        }
      ]
    },
    {
      "cell_type": "markdown",
      "source": [
        "# EDA"
      ],
      "metadata": {
        "id": "n34qkaZFZVil"
      }
    },
    {
      "cell_type": "code",
      "source": [
        "from nltk.stem import WordNetLemmatizer\n",
        "from nltk.stem.snowball import SnowballStemmer\n",
        "from nltk.corpus import stopwords\n",
        "from nltk.tokenize import word_tokenize \n",
        "import nltk\n",
        "\n",
        "nltk.download([\"wordnet\",\"punkt\",\"stopwords\"])\n",
        "es_stop_words = set(stopwords.words(\"english\"))"
      ],
      "metadata": {
        "colab": {
          "base_uri": "https://localhost:8080/"
        },
        "id": "c4-CNTzehEWQ",
        "outputId": "97cc2927-d76b-40d2-cf59-22f5d4f6652e"
      },
      "execution_count": 123,
      "outputs": [
        {
          "output_type": "stream",
          "name": "stdout",
          "text": [
            "[nltk_data] Downloading package wordnet to /root/nltk_data...\n",
            "[nltk_data]   Package wordnet is already up-to-date!\n",
            "[nltk_data] Downloading package punkt to /root/nltk_data...\n",
            "[nltk_data]   Package punkt is already up-to-date!\n",
            "[nltk_data] Downloading package stopwords to /root/nltk_data...\n",
            "[nltk_data]   Package stopwords is already up-to-date!\n"
          ]
        }
      ]
    },
    {
      "cell_type": "code",
      "source": [
        "def plot_distribution(data,feat,color,alpha=1):\n",
        "    sns.set(font_scale=1);\n",
        "    sns.displot(data[feat],color=color,kde=True,aspect=15/10,alpha = alpha,);\n",
        "    print(f'Max value of {feat} is {data[feat].max()}\\nMin value of {feat} is {data[feat].min()}\\nStd value of {feat} is {data[feat].std()}\\nMean value of {feat} is {data[feat].mean()}\\nMedian value of {feat} is {data[feat].median()}')"
      ],
      "metadata": {
        "id": "Ow-oF4KraCMe"
      },
      "execution_count": 131,
      "outputs": []
    },
    {
      "cell_type": "code",
      "source": [
        "plot_distribution(data,'rating','rebeccapurple',0.8);"
      ],
      "metadata": {
        "colab": {
          "base_uri": "https://localhost:8080/",
          "height": 456
        },
        "id": "7OH7TztXZUb2",
        "outputId": "881121d3-3c51-42af-8ce0-094477d7ed05"
      },
      "execution_count": 132,
      "outputs": [
        {
          "output_type": "stream",
          "name": "stdout",
          "text": [
            "Max value of rating is 4.79\n",
            "Min value of rating is 2.51\n",
            "Std value of rating is 0.2717924320723166\n",
            "Mean value of rating is 3.9516017338355973\n",
            "Median value of rating is 3.96\n"
          ]
        },
        {
          "output_type": "display_data",
          "data": {
            "image/png": "[encoded data removed]",
            "text/plain": [
              "<Figure size 540x360 with 1 Axes>"
            ]
          },
          "metadata": {}
        }
      ]
    },
    {
      "cell_type": "code",
      "source": [
        "def create_corpus(df):\n",
        "    corpus = []\n",
        "    for text in df.str.split():\n",
        "        for i in text:\n",
        "            corpus.append(i)\n",
        "    return corpus"
      ],
      "metadata": {
        "id": "-5E71YKGbgdF"
      },
      "execution_count": 133,
      "outputs": []
    },
    {
      "cell_type": "code",
      "source": [
        "from collections import defaultdict\n",
        "\n",
        "def top_words(catagory):\n",
        "    df = data[catagory]\n",
        "    df.dropna(inplace=True)\n",
        "    corpus = create_corpus(df)\n",
        "    dic = defaultdict(int)\n",
        "    for word in corpus:\n",
        "        if word in es_stop_words:\n",
        "            dic[word] = 1\n",
        "        elif word == 'The' or word == \"A\" or word == \".\" or word == \",\" or word == \"-\":\n",
        "            dic[word] = 1 \n",
        "        else:\n",
        "            dic[word] += 1\n",
        "            \n",
        "    top = sorted(dic.items() , key = lambda x:x[1] , reverse = True)[:15]\n",
        "    plt.figure(figsize = (8,4))\n",
        "    x , y = zip(*top)\n",
        "    sns.barplot( x = list(y),y = list(x), palette=\"Blues_d\").set(title = 'Frequency of Top 15')"
      ],
      "metadata": {
        "id": "QpqhBz4Oa2Sm"
      },
      "execution_count": 141,
      "outputs": []
    },
    {
      "cell_type": "code",
      "source": [
        "top_words('desc')"
      ],
      "metadata": {
        "colab": {
          "base_uri": "https://localhost:8080/",
          "height": 284
        },
        "id": "350wE-KlbTAe",
        "outputId": "be6ed694-2936-41d9-bf6f-b259e04a6c70"
      },
      "execution_count": 144,
      "outputs": [
        {
          "output_type": "display_data",
          "data": {
            "image/png": "[encoded data removed]",
            "text/plain": [
              "<Figure size 576x288 with 1 Axes>"
            ]
          },
          "metadata": {}
        }
      ]
    },
    {
      "cell_type": "markdown",
      "source": [
        "# Data Cleaning"
      ],
      "metadata": {
        "id": "uoDNQWrw6uwR"
      }
    },
    {
      "cell_type": "code",
      "source": [
        "data.shape"
      ],
      "metadata": {
        "colab": {
          "base_uri": "https://localhost:8080/"
        },
        "id": "GzRDSLmLpsWg",
        "outputId": "95a017d4-9d0f-4b27-eccf-cacf48eb1257"
      },
      "execution_count": 120,
      "outputs": [
        {
          "output_type": "execute_result",
          "data": {
            "text/plain": [
              "(19379, 13)"
            ]
          },
          "metadata": {},
          "execution_count": 120
        }
      ]
    },
    {
      "cell_type": "code",
      "source": [
        "df = data.drop(['img', 'isbn', 'isbn13', 'link', 'reviews', 'totalratings', 'pages', 'bookformat'], axis = 1)\n",
        "\n",
        "df['text'] = df['author'] + \" \"+ df['desc'] + \" \" + df['genre'] + \" \" +  df['title']"
      ],
      "metadata": {
        "id": "fZRocKVCg3kI"
      },
      "execution_count": 121,
      "outputs": []
    },
    {
      "cell_type": "code",
      "source": [
        "description = df['text'].astype('str') "
      ],
      "metadata": {
        "id": "bHmzxTBGg5-w"
      },
      "execution_count": 122,
      "outputs": []
    },
    {
      "cell_type": "code",
      "source": [
        "import re\n",
        "\n",
        "# Cleaning Data by removing URLs, ||| and other non alphebatic symobls which will have no impact on model building\n",
        "text = description.replace('+', ' ').replace('.', \" \").replace(',', ' ').replace(':', ' ').replace('\"',' ')\n",
        "\n",
        "# non alpahbets\n",
        "for index,post in enumerate(text.values):\n",
        "  text.values[index] = re.sub(r'[^a-zA-Z]', r' ',post)\n",
        "\n",
        "# removing excess spaces \n",
        "for index,post in enumerate(text.values):\n",
        "  text.values[index] = re.sub(r' +', r' ',post).lower()\n",
        "\n",
        "text = pd.DataFrame(text)\n",
        "description = text"
      ],
      "metadata": {
        "id": "1KgAPZBCg-ao"
      },
      "execution_count": 124,
      "outputs": []
    },
    {
      "cell_type": "code",
      "source": [
        "lemmatizer = WordNetLemmatizer()\n",
        "snow_stemmer = SnowballStemmer(language='english')\n",
        "\n",
        "for idx,temp in enumerate(description):\n",
        "  token_list = word_tokenize(temp)\n",
        "  filtered_list = [word for word in token_list if not word in es_stop_words]\n",
        "  temp = \" \".join(filtered_list)\n",
        "\n",
        "  temp = lemmatizer.lemmatize(temp)\n",
        "  temp = snow_stemmer.stem(temp)\n",
        "  description[idx] = temp"
      ],
      "metadata": {
        "id": "Y0sgkF_thG-o"
      },
      "execution_count": 125,
      "outputs": []
    },
    {
      "cell_type": "code",
      "source": [
        "from sklearn.model_selection import train_test_split\n",
        "from sklearn.naive_bayes import MultinomialNB\n",
        "from sklearn.naive_bayes import GaussianNB\n",
        "from sklearn.metrics import accuracy_score,confusion_matrix"
      ],
      "metadata": {
        "id": "a5yoI6UTiGR5"
      },
      "execution_count": 126,
      "outputs": []
    },
    {
      "cell_type": "code",
      "source": [
        "from sklearn.feature_extraction.text import ENGLISH_STOP_WORDS as es\n",
        "from sklearn.feature_extraction.text import TfidfVectorizer\n",
        "from sklearn.feature_extraction.text import CountVectorizer"
      ],
      "metadata": {
        "id": "Z-aA6Oyni43V"
      },
      "execution_count": 127,
      "outputs": []
    },
    {
      "cell_type": "code",
      "source": [
        "from sklearn import linear_model, metrics\n",
        "from sklearn.svm import SVR"
      ],
      "metadata": {
        "id": "xNHzXC_JsneQ"
      },
      "execution_count": 128,
      "outputs": []
    },
    {
      "cell_type": "code",
      "source": [
        "from sklearn.preprocessing import LabelEncoder"
      ],
      "metadata": {
        "id": "PV7agWW9sD0_"
      },
      "execution_count": 129,
      "outputs": []
    },
    {
      "cell_type": "code",
      "source": [
        "description.reset_index(drop=True)\n",
        "df.reset_index(drop=True)"
      ],
      "metadata": {
        "id": "oSUtGM8oBEu6",
        "colab": {
          "base_uri": "https://localhost:8080/",
          "height": 589
        },
        "outputId": "a1739234-a5a9-4bb1-d578-ba2e27be20d9"
      },
      "execution_count": 130,
      "outputs": [
        {
          "output_type": "execute_result",
          "data": {
            "text/html": [
              "\n",
              "  <div id=\"df-427efd3d-34b5-4a7a-b60c-d58e707acac5\">\n",
              "    <div class=\"colab-df-container\">\n",
              "      <div>\n",
              "<style scoped>\n",
              "    .dataframe tbody tr th:only-of-type {\n",
              "        vertical-align: middle;\n",
              "    }\n",
              "\n",
              "    .dataframe tbody tr th {\n",
              "        vertical-align: top;\n",
              "    }\n",
              "\n",
              "    .dataframe thead th {\n",
              "        text-align: right;\n",
              "    }\n",
              "</style>\n",
              "<table border=\"1\" class=\"dataframe\">\n",
              "  <thead>\n",
              "    <tr style=\"text-align: right;\">\n",
              "      <th></th>\n",
              "      <th>author</th>\n",
              "      <th>desc</th>\n",
              "      <th>genre</th>\n",
              "      <th>rating</th>\n",
              "      <th>title</th>\n",
              "      <th>text</th>\n",
              "    </tr>\n",
              "  </thead>\n",
              "  <tbody>\n",
              "    <tr>\n",
              "      <th>0</th>\n",
              "      <td>Helen Fremont</td>\n",
              "      <td>\"To this day, I don't even know what my mother...</td>\n",
              "      <td>Autobiography,Memoir,Nonfiction,World War II,H...</td>\n",
              "      <td>4.00</td>\n",
              "      <td>After Long Silence</td>\n",
              "      <td>Helen Fremont \"To this day, I don't even know ...</td>\n",
              "    </tr>\n",
              "    <tr>\n",
              "      <th>1</th>\n",
              "      <td>Christopher  Morley</td>\n",
              "      <td>Roger Mifflin is part pixie, part sage, part n...</td>\n",
              "      <td>Fiction,Writing,Books About Books,Classics,Hum...</td>\n",
              "      <td>4.03</td>\n",
              "      <td>Parnassus on Wheels</td>\n",
              "      <td>Christopher  Morley Roger Mifflin is part pixi...</td>\n",
              "    </tr>\n",
              "    <tr>\n",
              "      <th>2</th>\n",
              "      <td>Robert J. Shiller</td>\n",
              "      <td>As Robert Shillerâ€™s new 2009 preface to his ...</td>\n",
              "      <td>Economics,Economics,Finance,Business,Nonfictio...</td>\n",
              "      <td>3.98</td>\n",
              "      <td>Irrational Exuberance</td>\n",
              "      <td>Robert J. Shiller As Robert Shillerâ€™s new 20...</td>\n",
              "    </tr>\n",
              "    <tr>\n",
              "      <th>3</th>\n",
              "      <td>Ovid,David Malouf,James Michie</td>\n",
              "      <td>NaN</td>\n",
              "      <td>Poetry,Classics,Nonfiction,Philosophy,Romance,...</td>\n",
              "      <td>3.81</td>\n",
              "      <td>The Art of Love</td>\n",
              "      <td>NaN</td>\n",
              "    </tr>\n",
              "    <tr>\n",
              "      <th>4</th>\n",
              "      <td>Joseph Staten</td>\n",
              "      <td>This is how it began...,It is the year 2524. H...</td>\n",
              "      <td>Science Fiction,Fiction,Games,Video Games,Spor...</td>\n",
              "      <td>3.98</td>\n",
              "      <td>Halo: Contact Harvest</td>\n",
              "      <td>Joseph Staten This is how it began...,It is th...</td>\n",
              "    </tr>\n",
              "    <tr>\n",
              "      <th>...</th>\n",
              "      <td>...</td>\n",
              "      <td>...</td>\n",
              "      <td>...</td>\n",
              "      <td>...</td>\n",
              "      <td>...</td>\n",
              "      <td>...</td>\n",
              "    </tr>\n",
              "    <tr>\n",
              "      <th>19374</th>\n",
              "      <td>Robert Jay Lifton</td>\n",
              "      <td>Nazi doctors did more than conduct bizarre exp...</td>\n",
              "      <td>History,Nonfiction,Psychology,World War II,Hol...</td>\n",
              "      <td>4.10</td>\n",
              "      <td>The Nazi Doctors: Medical Killing and the Psyc...</td>\n",
              "      <td>Robert Jay Lifton Nazi doctors did more than c...</td>\n",
              "    </tr>\n",
              "    <tr>\n",
              "      <th>19375</th>\n",
              "      <td>Priscilla Glenn</td>\n",
              "      <td>Ever since the one time Andie Weber threw caut...</td>\n",
              "      <td>New Adult,Romance,Romance,Contemporary Romance...</td>\n",
              "      <td>3.90</td>\n",
              "      <td>Emancipating Andie</td>\n",
              "      <td>Priscilla Glenn Ever since the one time Andie ...</td>\n",
              "    </tr>\n",
              "    <tr>\n",
              "      <th>19376</th>\n",
              "      <td>Roque Larraquy</td>\n",
              "      <td>La comemadre, ofrece dos relatos que hunden su...</td>\n",
              "      <td>Fiction,Horror,Novella,Novels,Cultural,Latin A...</td>\n",
              "      <td>3.84</td>\n",
              "      <td>La comemadre</td>\n",
              "      <td>Roque Larraquy La comemadre, ofrece dos relato...</td>\n",
              "    </tr>\n",
              "    <tr>\n",
              "      <th>19377</th>\n",
              "      <td>Melissa Lucashenko</td>\n",
              "      <td>A darkly funny novel of romantic love and cult...</td>\n",
              "      <td>Fiction,Cultural,Australia,Literary Fiction,Co...</td>\n",
              "      <td>3.93</td>\n",
              "      <td>Mullumbimby</td>\n",
              "      <td>Melissa Lucashenko A darkly funny novel of rom...</td>\n",
              "    </tr>\n",
              "    <tr>\n",
              "      <th>19378</th>\n",
              "      <td>John Lescroart</td>\n",
              "      <td>\"People\" magazine crowns him \"a master.\" \"The ...</td>\n",
              "      <td>Mystery,Fiction,Thriller,Legal Thriller,Thrill...</td>\n",
              "      <td>4.03</td>\n",
              "      <td>The Oath</td>\n",
              "      <td>John Lescroart \"People\" magazine crowns him \"a...</td>\n",
              "    </tr>\n",
              "  </tbody>\n",
              "</table>\n",
              "<p>19379 rows × 6 columns</p>\n",
              "</div>\n",
              "      <button class=\"colab-df-convert\" onclick=\"convertToInteractive('df-427efd3d-34b5-4a7a-b60c-d58e707acac5')\"\n",
              "              title=\"Convert this dataframe to an interactive table.\"\n",
              "              style=\"display:none;\">\n",
              "        \n",
              "  <svg xmlns=\"http://www.w3.org/2000/svg\" height=\"24px\"viewBox=\"0 0 24 24\"\n",
              "       width=\"24px\">\n",
              "    <path d=\"M0 0h24v24H0V0z\" fill=\"none\"/>\n",
              "    <path d=\"M18.56 5.44l.94 2.06.94-2.06 2.06-.94-2.06-.94-.94-2.06-.94 2.06-2.06.94zm-11 1L8.5 8.5l.94-2.06 2.06-.94-2.06-.94L8.5 2.5l-.94 2.06-2.06.94zm10 10l.94 2.06.94-2.06 2.06-.94-2.06-.94-.94-2.06-.94 2.06-2.06.94z\"/><path d=\"M17.41 7.96l-1.37-1.37c-.4-.4-.92-.59-1.43-.59-.52 0-1.04.2-1.43.59L10.3 9.45l-7.72 7.72c-.78.78-.78 2.05 0 2.83L4 21.41c.39.39.9.59 1.41.59.51 0 1.02-.2 1.41-.59l7.78-7.78 2.81-2.81c.8-.78.8-2.07 0-2.86zM5.41 20L4 18.59l7.72-7.72 1.47 1.35L5.41 20z\"/>\n",
              "  </svg>\n",
              "      </button>\n",
              "      \n",
              "  <style>\n",
              "    .colab-df-container {\n",
              "      display:flex;\n",
              "      flex-wrap:wrap;\n",
              "      gap: 12px;\n",
              "    }\n",
              "\n",
              "    .colab-df-convert {\n",
              "      background-color: #E8F0FE;\n",
              "      border: none;\n",
              "      border-radius: 50%;\n",
              "      cursor: pointer;\n",
              "      display: none;\n",
              "      fill: #1967D2;\n",
              "      height: 32px;\n",
              "      padding: 0 0 0 0;\n",
              "      width: 32px;\n",
              "    }\n",
              "\n",
              "    .colab-df-convert:hover {\n",
              "      background-color: #E2EBFA;\n",
              "      box-shadow: 0px 1px 2px rgba(60, 64, 67, 0.3), 0px 1px 3px 1px rgba(60, 64, 67, 0.15);\n",
              "      fill: #174EA6;\n",
              "    }\n",
              "\n",
              "    [theme=dark] .colab-df-convert {\n",
              "      background-color: #3B4455;\n",
              "      fill: #D2E3FC;\n",
              "    }\n",
              "\n",
              "    [theme=dark] .colab-df-convert:hover {\n",
              "      background-color: #434B5C;\n",
              "      box-shadow: 0px 1px 3px 1px rgba(0, 0, 0, 0.15);\n",
              "      filter: drop-shadow(0px 1px 2px rgba(0, 0, 0, 0.3));\n",
              "      fill: #FFFFFF;\n",
              "    }\n",
              "  </style>\n",
              "\n",
              "      <script>\n",
              "        const buttonEl =\n",
              "          document.querySelector('#df-427efd3d-34b5-4a7a-b60c-d58e707acac5 button.colab-df-convert');\n",
              "        buttonEl.style.display =\n",
              "          google.colab.kernel.accessAllowed ? 'block' : 'none';\n",
              "\n",
              "        async function convertToInteractive(key) {\n",
              "          const element = document.querySelector('#df-427efd3d-34b5-4a7a-b60c-d58e707acac5');\n",
              "          const dataTable =\n",
              "            await google.colab.kernel.invokeFunction('convertToInteractive',\n",
              "                                                     [key], {});\n",
              "          if (!dataTable) return;\n",
              "\n",
              "          const docLinkHtml = 'Like what you see? Visit the ' +\n",
              "            '<a target=\"_blank\" href=https://colab.research.google.com/notebooks/data_table.ipynb>data table notebook</a>'\n",
              "            + ' to learn more about interactive tables.';\n",
              "          element.innerHTML = '';\n",
              "          dataTable['output_type'] = 'display_data';\n",
              "          await google.colab.output.renderOutput(dataTable, element);\n",
              "          const docLink = document.createElement('div');\n",
              "          docLink.innerHTML = docLinkHtml;\n",
              "          element.appendChild(docLink);\n",
              "        }\n",
              "      </script>\n",
              "    </div>\n",
              "  </div>\n",
              "  "
            ],
            "text/plain": [
              "                               author  ...                                               text\n",
              "0                       Helen Fremont  ...  Helen Fremont \"To this day, I don't even know ...\n",
              "1                 Christopher  Morley  ...  Christopher  Morley Roger Mifflin is part pixi...\n",
              "2                   Robert J. Shiller  ...  Robert J. Shiller As Robert Shillerâ€™s new 20...\n",
              "3      Ovid,David Malouf,James Michie  ...                                                NaN\n",
              "4                       Joseph Staten  ...  Joseph Staten This is how it began...,It is th...\n",
              "...                               ...  ...                                                ...\n",
              "19374               Robert Jay Lifton  ...  Robert Jay Lifton Nazi doctors did more than c...\n",
              "19375                 Priscilla Glenn  ...  Priscilla Glenn Ever since the one time Andie ...\n",
              "19376                  Roque Larraquy  ...  Roque Larraquy La comemadre, ofrece dos relato...\n",
              "19377              Melissa Lucashenko  ...  Melissa Lucashenko A darkly funny novel of rom...\n",
              "19378                  John Lescroart  ...  John Lescroart \"People\" magazine crowns him \"a...\n",
              "\n",
              "[19379 rows x 6 columns]"
            ]
          },
          "metadata": {},
          "execution_count": 130
        }
      ]
    },
    {
      "cell_type": "markdown",
      "source": [
        "# Traing Model"
      ],
      "metadata": {
        "id": "V0-RRLJb6nk5"
      }
    },
    {
      "cell_type": "code",
      "source": [
        "X = description['text'].astype(str)\n",
        "y = df[\"rating\"]\n",
        "\n",
        "X_train, X_test, y_train, y_test = train_test_split(X, y, test_size = 0.30,random_state = 0)\n",
        "\n",
        "X_train = X_train.astype(\"str\")\n",
        "X_test = X_test.astype(\"str\")\n",
        "vectorizer = TfidfVectorizer(stop_words = es, lowercase=False)\n",
        "X_train_vect = vectorizer.fit_transform(X_train)\n",
        "X_test_vect = vectorizer.transform(X_test)\n",
        "\n",
        "SVR = SVR(kernel = 'rbf')\n",
        "\n",
        "SVR.fit(X_train_vect,y_train)\n",
        "\n",
        "y_pred = SVR.predict(X_test_vect)\n",
        "\n",
        "print(f\"\\nMAE: {metrics.mean_absolute_error(y_test,y_pred)}\")\n",
        "print(f\"\\nMSE: {metrics.mean_squared_error(y_test,y_pred)}\")\n",
        "print(f\"\\nRMSE: {np.sqrt(metrics.mean_squared_error(y_test,y_pred))}\")"
      ],
      "metadata": {
        "colab": {
          "base_uri": "https://localhost:8080/"
        },
        "id": "xl1cOH6FhiFn",
        "outputId": "0778c2d0-6e33-40b2-e57f-03ee586c6cef"
      },
      "execution_count": null,
      "outputs": [
        {
          "output_type": "stream",
          "name": "stdout",
          "text": [
            "\n",
            "MAE: 0.17584354128918045\n",
            "\n",
            "MSE: 0.05039596715604994\n",
            "\n",
            "RMSE: 0.2244904611694001\n"
          ]
        }
      ]
    },
    {
      "cell_type": "code",
      "source": [
        "import matplotlib.pyplot as plt\n",
        "\n",
        "y_test.reset_index(drop=True, inplace=True)\n",
        "\n",
        "plt.plot(y_test[0:100])\n",
        "plt.plot(y_pred[0:100])\n",
        "plt.show()"
      ],
      "metadata": {
        "colab": {
          "base_uri": "https://localhost:8080/",
          "height": 265
        },
        "id": "hfpujJDT3K9w",
        "outputId": "cff06b82-f3b0-45b0-8f95-1f8b5f1d48fb"
      },
      "execution_count": null,
      "outputs": [
        {
          "output_type": "display_data",
          "data": {
            "image/png": "[encoded data removed]",
            "text/plain": [
              "<Figure size 432x288 with 1 Axes>"
            ]
          },
          "metadata": {
            "needs_background": "light"
          }
        }
      ]
    },
    {
      "cell_type": "markdown",
      "source": [
        "# Saving the model"
      ],
      "metadata": {
        "id": "vhqVviDT6dWK"
      }
    },
    {
      "cell_type": "code",
      "source": [
        "import pickle"
      ],
      "metadata": {
        "id": "f1_0e2wN3AWD"
      },
      "execution_count": null,
      "outputs": []
    },
    {
      "cell_type": "code",
      "source": [
        "with open('rating_model_pickle', 'wb') as f:\n",
        "  pickle.dump(SVR, f)"
      ],
      "metadata": {
        "id": "lJE4Ligc3DBr"
      },
      "execution_count": null,
      "outputs": []
    },
    {
      "cell_type": "code",
      "source": [
        "with open('rating_model_pickle', 'rb') as f:\n",
        "  model = pickle.load(f)\n",
        "  pred = model.predict(vectorizer.transform(['bad man goes on a spritual journy to seek good']))\n",
        "  print(pred)"
      ],
      "metadata": {
        "id": "HIcMWxV6hVBN"
      },
      "execution_count": null,
      "outputs": []
    }
  ]
}